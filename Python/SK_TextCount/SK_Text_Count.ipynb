{
 "cells": [
  {
   "cell_type": "markdown",
   "id": "a792c44e",
   "metadata": {},
   "source": [
    "1) Convert a string to lowercase characters."
   ]
  },
  {
   "cell_type": "code",
   "execution_count": 45,
   "id": "de30107c",
   "metadata": {},
   "outputs": [
    {
     "name": "stdout",
     "output_type": "stream",
     "text": [
      "The string in lowercase: \n",
      "imagine a vast sheet of paper on which straight lines, triangles, squares, pentagons, hexagons, and other figures, instead of remaining fixed in their places, move freely about, on or in the surface, but without the power of rising above or sinking below it, very much like shadows - only hard and with luminous edges - and you will then have a pretty correct notion of my country and countrymen. alas, a few years ago, i should have said \"my universe\": but now my mind has been opened to higher views of things.\n"
     ]
    }
   ],
   "source": [
    "s = \"\"\"Imagine a vast sheet of paper on which straight Lines, Triangles, Squares, Pentagons, Hexagons, and other figures, instead of remaining fixed in their places, move freely about, on or in the surface, but without the power of rising above or sinking below it, very much like shadows - only hard and with luminous edges - and you will then have a pretty correct notion of my country and countrymen. Alas, a few years ago, I should have said \"my universe\": but now my mind has been opened to higher views of things.\"\"\"\n",
    " \n",
    "#do not change any code above this line\n",
    "#your code here\n",
    "s_lower = s.lower()\n",
    "print(\"The string in lowercase: \")\n",
    "print(s_lower)"
   ]
  },
  {
   "cell_type": "markdown",
   "id": "33228930",
   "metadata": {},
   "source": [
    "2) Split the lowercase string into individual words."
   ]
  },
  {
   "cell_type": "code",
   "execution_count": 46,
   "id": "da997074",
   "metadata": {},
   "outputs": [
    {
     "name": "stdout",
     "output_type": "stream",
     "text": [
      "The string split into individual words: \n",
      "['imagine', 'a', 'vast', 'sheet', 'of', 'paper', 'on', 'which', 'straight', 'lines,', 'triangles,', 'squares,', 'pentagons,', 'hexagons,', 'and', 'other', 'figures,', 'instead', 'of', 'remaining', 'fixed', 'in', 'their', 'places,', 'move', 'freely', 'about,', 'on', 'or', 'in', 'the', 'surface,', 'but', 'without', 'the', 'power', 'of', 'rising', 'above', 'or', 'sinking', 'below', 'it,', 'very', 'much', 'like', 'shadows', '-', 'only', 'hard', 'and', 'with', 'luminous', 'edges', '-', 'and', 'you', 'will', 'then', 'have', 'a', 'pretty', 'correct', 'notion', 'of', 'my', 'country', 'and', 'countrymen.', 'alas,', 'a', 'few', 'years', 'ago,', 'i', 'should', 'have', 'said', '\"my', 'universe\":', 'but', 'now', 'my', 'mind', 'has', 'been', 'opened', 'to', 'higher', 'views', 'of', 'things.']\n"
     ]
    }
   ],
   "source": [
    "words = list() #do not delete. this list must contain the list of words. \n",
    " \n",
    "#your code goes here\n",
    "words = s_lower.split()\n",
    "\n",
    "print(\"The string split into individual words: \")\n",
    "print(words) #do not delete \n",
    "#do not write any code past here"
   ]
  },
  {
   "cell_type": "markdown",
   "id": "9fd4e2df",
   "metadata": {},
   "source": [
    "3) Count the number of words in the lowercase string."
   ]
  },
  {
   "cell_type": "code",
   "execution_count": 47,
   "id": "ea27e772",
   "metadata": {},
   "outputs": [
    {
     "name": "stdout",
     "output_type": "stream",
     "text": [
      "The number of words in the string is:  92\n"
     ]
    }
   ],
   "source": [
    "print(\"The number of words in the string is: \",len(words))"
   ]
  },
  {
   "cell_type": "markdown",
   "id": "fc98057a",
   "metadata": {},
   "source": [
    "4) Determine the number of distinct words in the lowercase string."
   ]
  },
  {
   "cell_type": "code",
   "execution_count": 48,
   "id": "0a241b68",
   "metadata": {},
   "outputs": [
    {
     "name": "stdout",
     "output_type": "stream",
     "text": [
      "The number of distinct words is:  75\n"
     ]
    }
   ],
   "source": [
    "distinct_words = set(words)\n",
    "print(\"The number of distinct words is: \",len(distinct_words))"
   ]
  },
  {
   "cell_type": "markdown",
   "id": "ff9b131a",
   "metadata": {},
   "source": [
    "5) Calculate the number of times each word appears in the lowercase string."
   ]
  },
  {
   "cell_type": "code",
   "execution_count": 49,
   "id": "f1b88656",
   "metadata": {},
   "outputs": [
    {
     "name": "stdout",
     "output_type": "stream",
     "text": [
      "The frequency that words appear in the string:\n",
      "{'imagine': 1, 'a': 3, 'vast': 1, 'sheet': 1, 'of': 5, 'paper': 1, 'on': 2, 'which': 1, 'straight': 1, 'lines,': 1, 'triangles,': 1, 'squares,': 1, 'pentagons,': 1, 'hexagons,': 1, 'and': 4, 'other': 1, 'figures,': 1, 'instead': 1, 'remaining': 1, 'fixed': 1, 'in': 2, 'their': 1, 'places,': 1, 'move': 1, 'freely': 1, 'about,': 1, 'or': 2, 'the': 2, 'surface,': 1, 'but': 2, 'without': 1, 'power': 1, 'rising': 1, 'above': 1, 'sinking': 1, 'below': 1, 'it,': 1, 'very': 1, 'much': 1, 'like': 1, 'shadows': 1, '-': 2, 'only': 1, 'hard': 1, 'with': 1, 'luminous': 1, 'edges': 1, 'you': 1, 'will': 1, 'then': 1, 'have': 2, 'pretty': 1, 'correct': 1, 'notion': 1, 'my': 2, 'country': 1, 'countrymen.': 1, 'alas,': 1, 'few': 1, 'years': 1, 'ago,': 1, 'i': 1, 'should': 1, 'said': 1, '\"my': 1, 'universe\":': 1, 'now': 1, 'mind': 1, 'has': 1, 'been': 1, 'opened': 1, 'to': 1, 'higher': 1, 'views': 1, 'things.': 1}\n"
     ]
    }
   ],
   "source": [
    "word_freq = dict()\n",
    "\n",
    "for word in words:\n",
    "    if (word in word_freq):\n",
    "        word_freq[word] += 1\n",
    "    else:\n",
    "        word_freq[word] = 1\n",
    "print(\"The frequency that words appear in the string:\")\n",
    "print(word_freq)    \n",
    "#for key, value in freq.items():\n",
    "    #print ((key, value))"
   ]
  },
  {
   "cell_type": "markdown",
   "id": "ac17f66b",
   "metadata": {},
   "source": [
    "6) Remove the punctuation from the lowercase string."
   ]
  },
  {
   "cell_type": "code",
   "execution_count": 50,
   "id": "a4a6c3b7",
   "metadata": {},
   "outputs": [
    {
     "name": "stdout",
     "output_type": "stream",
     "text": [
      "This is the string without punctuation:\n",
      "['imagine', 'a', 'vast', 'sheet', 'of', 'paper', 'on', 'which', 'straight', 'lines', 'triangles', 'squares', 'pentagons', 'hexagons', 'and', 'other', 'figures', 'instead', 'of', 'remaining', 'fixed', 'in', 'their', 'places', 'move', 'freely', 'about', 'on', 'or', 'in', 'the', 'surface', 'but', 'without', 'the', 'power', 'of', 'rising', 'above', 'or', 'sinking', 'below', 'it', 'very', 'much', 'like', 'shadows', 'only', 'hard', 'and', 'with', 'luminous', 'edges', 'and', 'you', 'will', 'then', 'have', 'a', 'pretty', 'correct', 'notion', 'of', 'my', 'country', 'and', 'countrymen', 'alas', 'a', 'few', 'years', 'ago', 'i', 'should', 'have', 'said', 'my', 'universe', 'but', 'now', 'my', 'mind', 'has', 'been', 'opened', 'to', 'higher', 'views', 'of', 'things']\n",
      "The number of words in the cleaned list is : 90\n",
      "The number of distinct words in the cleaned list is:  73\n"
     ]
    }
   ],
   "source": [
    "import string #import the string module \n",
    "#use the string.punctuation built-in python to create a list of all punctuations\n",
    "punctuation_list =  list(string.punctuation)  #do not delete this\n",
    "\n",
    "w_clean = list()\n",
    "#your code goes here \n",
    "for word in words:\n",
    "    for letter in word:\n",
    "        if letter in punctuation_list:\n",
    "            word = word.replace(letter,\"\")   \n",
    "    w_clean.append(word)\n",
    "    w_clean = list(filter(None, w_clean))\n",
    "        \n",
    "print(\"This is the string without punctuation:\")\n",
    "print(w_clean)\n",
    "print(\"The number of words in the cleaned list is :\",len(w_clean))\n",
    "print(\"The number of distinct words in the cleaned list is: \",len(set(w_clean)))"
   ]
  },
  {
   "cell_type": "markdown",
   "id": "0be706b3",
   "metadata": {},
   "source": [
    "7) Perform a count analysis on the text without punctuation characters."
   ]
  },
  {
   "cell_type": "code",
   "execution_count": 52,
   "id": "b6590c7a",
   "metadata": {},
   "outputs": [
    {
     "name": "stdout",
     "output_type": "stream",
     "text": [
      "Count Analysis:\n",
      "('imagine', 1)\n",
      "('a', 3)\n",
      "('vast', 1)\n",
      "('sheet', 1)\n",
      "('of', 5)\n",
      "('paper', 1)\n",
      "('on', 2)\n",
      "('which', 1)\n",
      "('straight', 1)\n",
      "('lines', 1)\n",
      "('triangles', 1)\n",
      "('squares', 1)\n",
      "('pentagons', 1)\n",
      "('hexagons', 1)\n",
      "('and', 4)\n",
      "('other', 1)\n",
      "('figures', 1)\n",
      "('instead', 1)\n",
      "('remaining', 1)\n",
      "('fixed', 1)\n",
      "('in', 2)\n",
      "('their', 1)\n",
      "('places', 1)\n",
      "('move', 1)\n",
      "('freely', 1)\n",
      "('about', 1)\n",
      "('or', 2)\n",
      "('the', 2)\n",
      "('surface', 1)\n",
      "('but', 2)\n",
      "('without', 1)\n",
      "('power', 1)\n",
      "('rising', 1)\n",
      "('above', 1)\n",
      "('sinking', 1)\n",
      "('below', 1)\n",
      "('it', 1)\n",
      "('very', 1)\n",
      "('much', 1)\n",
      "('like', 1)\n",
      "('shadows', 1)\n",
      "('only', 1)\n",
      "('hard', 1)\n",
      "('with', 1)\n",
      "('luminous', 1)\n",
      "('edges', 1)\n",
      "('you', 1)\n",
      "('will', 1)\n",
      "('then', 1)\n",
      "('have', 2)\n",
      "('pretty', 1)\n",
      "('correct', 1)\n",
      "('notion', 1)\n",
      "('my', 3)\n",
      "('country', 1)\n",
      "('countrymen', 1)\n",
      "('alas', 1)\n",
      "('few', 1)\n",
      "('years', 1)\n",
      "('ago', 1)\n",
      "('i', 1)\n",
      "('should', 1)\n",
      "('said', 1)\n",
      "('universe', 1)\n",
      "('now', 1)\n",
      "('mind', 1)\n",
      "('has', 1)\n",
      "('been', 1)\n",
      "('opened', 1)\n",
      "('to', 1)\n",
      "('higher', 1)\n",
      "('views', 1)\n",
      "('things', 1)\n"
     ]
    }
   ],
   "source": [
    "count_ana = dict()\n",
    "\n",
    "for word in w_clean:\n",
    "    if (word in count_ana):\n",
    "        count_ana[word] += 1\n",
    "    else:\n",
    "        count_ana[word] = 1\n",
    "        \n",
    "print(\"Count Analysis:\")\n",
    "for key, value in count_ana.items():\n",
    "    print ((key, value))"
   ]
  },
  {
   "cell_type": "code",
   "execution_count": null,
   "id": "78de2e9a",
   "metadata": {},
   "outputs": [],
   "source": []
  }
 ],
 "metadata": {
  "kernelspec": {
   "display_name": "Python 3 (ipykernel)",
   "language": "python",
   "name": "python3"
  },
  "language_info": {
   "codemirror_mode": {
    "name": "ipython",
    "version": 3
   },
   "file_extension": ".py",
   "mimetype": "text/x-python",
   "name": "python",
   "nbconvert_exporter": "python",
   "pygments_lexer": "ipython3",
   "version": "3.9.7"
  }
 },
 "nbformat": 4,
 "nbformat_minor": 5
}
