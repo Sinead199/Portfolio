{
 "cells": [
  {
   "cell_type": "code",
   "execution_count": null,
   "id": "e2825bbf",
   "metadata": {},
   "outputs": [],
   "source": [
    "#Sinead Kelly 03/05/2022"
   ]
  },
  {
   "cell_type": "code",
   "execution_count": 11,
   "id": "8136bbbc",
   "metadata": {},
   "outputs": [
    {
     "name": "stdout",
     "output_type": "stream",
     "text": [
      "Please choose a cup size (small/medium/large) small\n",
      "Please choose what kind of coffee you would like (brewed/espresso/cold brew) cold brew\n",
      "Please choose what flavour syrup you would like (hazelnut/vanilla/caramel/no) vanilla\n",
      "Your order consists of a  small cold brew coffee with  vanilla syrup.\n",
      "Your total is $ 3.5\n",
      "Your total after tips is $ 4.03\n"
     ]
    }
   ],
   "source": [
    "# Size prices\n",
    "small_price = 2.00\n",
    "medium_price = 3.00\n",
    "large_price = 4.00\n",
    "\n",
    "# Coffee prices\n",
    "brewed_price = 0.00\n",
    "espresso_price = 0.50\n",
    "cold_brew_price = 1.00\n",
    "\n",
    "# Flavour prices\n",
    "none_price = 0.00\n",
    "flavour_price = 0.50\n",
    "\n",
    "# Start price at 0\n",
    "price = 0.00\n",
    "float_price = float(price)\n",
    "\n",
    "size = input(\"Please choose a cup size (small/medium/large) \")\n",
    "size = size.lower()\n",
    "\n",
    "if size == \"small\":\n",
    "    price = price + small_price\n",
    "elif size == \"medium\":\n",
    "    price = float_price + medium_price\n",
    "elif size == \"large\":\n",
    "    price = float_price + large_price\n",
    "else:\n",
    "    print(\"Coffee size not found\")\n",
    "    \n",
    "coffee = input(\"Please choose what kind of coffee you would like (brewed/espresso/cold brew) \")\n",
    "coffee = coffee.lower()\n",
    "\n",
    "if coffee == \"brewed\":\n",
    "    price = price + brewed_price\n",
    "elif coffee == \"espresso\":\n",
    "    price = price + espresso_price\n",
    "elif coffee == \"cold brew\":\n",
    "    price = price + cold_brew_price\n",
    "else:\n",
    "    print(\"Coffee was not found\")\n",
    "    \n",
    "flavour = input(\"Please choose what flavour syrup you would like (hazelnut/vanilla/caramel/no) \")\n",
    "flavour = flavour.lower()\n",
    "\n",
    "condition1 = (flavour == \"hazelnut\" or flavour == \"vanilla\" or flavour == \"caramel\")\n",
    "condition2 = (flavour == \"no\")\n",
    "\n",
    "if condition1 == True:\n",
    "    price = price + flavour_price\n",
    "elif condition2 == True:\n",
    "    price = price + none_price\n",
    "else:\n",
    "    print(\"Flavour not found\")\n",
    "    \n",
    "print(\"Your order consists of a \", size, coffee, \"coffee with \",flavour, \"syrup.\")\n",
    "\n",
    "# Calculate the tip\n",
    "tip = (float(price) / 100) * 15\n",
    "\n",
    "tipped_price = price + tip\n",
    "total_cost = round(tipped_price, 2)\n",
    "\n",
    "print(\"Your total is $\", price)\n",
    "print(\"Your total after tips is $\", total_cost)"
   ]
  }
 ],
 "metadata": {
  "kernelspec": {
   "display_name": "Python 3 (ipykernel)",
   "language": "python",
   "name": "python3"
  },
  "language_info": {
   "codemirror_mode": {
    "name": "ipython",
    "version": 3
   },
   "file_extension": ".py",
   "mimetype": "text/x-python",
   "name": "python",
   "nbconvert_exporter": "python",
   "pygments_lexer": "ipython3",
   "version": "3.9.7"
  }
 },
 "nbformat": 4,
 "nbformat_minor": 5
}
